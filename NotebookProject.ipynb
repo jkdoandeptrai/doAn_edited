{
    "metadata": {
        "kernelspec": {
            "name": "SQL",
            "display_name": "SQL",
            "language": "sql"
        },
        "language_info": {
            "name": "sql",
            "version": ""
        },
        "extensions": {
            "azuredatastudio": {
                "version": 1,
                "views": []
            }
        }
    },
    "nbformat_minor": 2,
    "nbformat": 4,
    "cells": [
        {
            "cell_type": "code",
            "source": [
                "--  1, CuaHang:\r\n",
                "        /*Cập nhật ID của CuaHang mới trong hệ thống vào bảng PhiCuaHang: */\r\n",
                "    CREATE OR ALTER PROCEDURE ADD_CuaHang AS\r\n",
                "        INSERT INTO \r\n",
                "            PhiCuaHang(P_ID)\r\n",
                "            SELECT P_ID from CuaHang \r\n",
                "                        WHERE   MONTH(GETDATE()) > ALL (\r\n",
                "                                    SELECT THANG FROM PhiCuaHang --- Trường hợp sang tháng mới\r\n",
                "                                )  OR YEAR(GETDATE()) > ALL (\r\n",
                "                                    SELECT NAM FROM PhiCuaHang --- Trường hợp sang năm mới\r\n",
                "                                )  OR P_ID != ALL (\r\n",
                "                                    SELECT P_ID from PhiCuaHang  --- Trường hợp có thêm CuaHang mới\r\n",
                "                                )\r\n",
                "        -------------------------------------------------------------------------------------\r\n",
                "    -- -- SELECT * from PhiCuaHang"
            ],
            "metadata": {
                "azdata_cell_guid": "be6dae16-b59b-47f0-8f44-d4b21ce5d1f9"
            },
            "outputs": [],
            "execution_count": null
        },
        {
            "cell_type": "code",
            "source": [
                "-- 2, Shippers\r\n",
                "    --     /*Cập nhật ID của Shipper mới trong hệ thống vào bảng PhiShippers */\r\n",
                "\r\n",
                "    CREATE OR ALTER PROCEDURE ADD_Shipper AS\r\n",
                "\r\n",
                "        INSERT INTO \r\n",
                "            PhiShippers(S_ID)\r\n",
                "            SELECT S_ID from Shippers \r\n",
                "                            WHERE MONTH(GETDATE()) > ALL (\r\n",
                "                                SELECT THANG FROM PhiShippers\r\n",
                "                            ) OR YEAR(GETDATE()) > ALL (\r\n",
                "                                SELECT NAM FROM PhiShippers\r\n",
                "                            ) OR S_ID != ALL (\r\n",
                "                                SELECT S_ID from PhiShippers\r\n",
                "                            )\r\n",
                "                \r\n",
                "        -- SELECT * from PhiShippers\r\n",
                "\r\n",
                ""
            ],
            "metadata": {
                "azdata_cell_guid": "54582f0b-f2e3-4292-93b5-d153bbc9d101"
            },
            "outputs": [],
            "execution_count": null
        },
        {
            "cell_type": "code",
            "source": [
                "        /*Tính phí phải trả của Shipper mỗi cuối tháng và cập nhật vào trong bảng PhiShippers */\r\n",
                "     CREATE or ALTER PROCEDURE Update_ShipperFee AS\r\n",
                "        UPDATE PhiShippers\r\n",
                "            SET PhiShippers.SO_TIEN_KIEM_DUOC_TRONG_THANG = sSum.TONG_TIEN_SHIP ,\r\n",
                "                PhiShippers.TIEN_PHI_THANG = sSum.PHI_PHAI_TRA\r\n",
                "            FROM\r\n",
                "                PhiShippers as s\r\n",
                "                INNER JOIN\r\n",
                "                (\r\n",
                "                SELECT  HoaDon.S_ID,\r\n",
                "                        SUM(HoaDon.PHI_SHIP_VND) as TONG_TIEN_SHIP,\r\n",
                "                        SUM(HoaDon.PHI_SHIP_VND)*0.3 as PHI_PHAI_TRA,\r\n",
                "                        -- Hệ số tính: Lấy 30% tổng số tiền phí ship mà shipper nhận được trong mỗi đơn hàng\r\n",
                "                        MONTH(GETDATE()) as Thang ,\r\n",
                "                        YEAR(GETDATE()) as NAM\r\n",
                "                    from HoaDon\r\n",
                "                WHERE HoaDon.TRANG_THAI = N'Đã giao' \r\n",
                "                        AND  \r\n",
                "                        MONTH(HoaDon.THOI_GIAN_NHAN_HANG) = MONTH(GETDATE())\r\n",
                "                        AND \r\n",
                "                        YEAR(HoaDon.THOI_GIAN_NHAN_HANG) = YEAR(GETDATE())\r\n",
                "\r\n",
                "                /*\r\n",
                "                *chỉ những đơn hàng \"Đã giao\" thì hệ thống mới thực sự tính phí cho shipper, nếu đơn hàng ở trạng thái đang giao thì vẫn chưa coi\r\n",
                "                 là một đơn hàng thành công -> shipper vẫn chưa nhận được tiền phí ship.\r\n",
                "                * Điều kiện WHERE nhấn mạnh rằng tiền phí tháng/ năm nào thì phải tính cho shipper ở tháng/ năm đấy\r\n",
                "                 */\r\n",
                "                GROUP BY S_ID\r\n",
                "                ) as sSum\r\n",
                "                ON s.S_ID = sSum.S_ID and sSum.Thang = s.THANG and sSum.NAM = s.NAM\r\n",
                "\r\n",
                "\r\n",
                "\r\n",
                "-----------------------------------------------------------------------------------------------------------------------------------------------------\r\n",
                ""
            ],
            "metadata": {
                "azdata_cell_guid": "7f8e34e1-b047-4740-b93c-d6ac6840d3f0"
            },
            "outputs": [],
            "execution_count": null
        },
        {
            "cell_type": "code",
            "source": [
                "-- kiểm tra mặt hàng có tên @name, số lượng ít nhất là @min có cửa hàng nào đáp ứng được không\r\n",
                "CREATE OR ALTER FUNCTION Check_If_Available(@name NVARCHAR(10),@min INT)\r\n",
                "       RETURNS TABLE AS\r\n",
                "           RETURN\r\n",
                "                SELECT * from MatHang\r\n",
                "                WHERE   MatHang.CON_LAI >= @min AND MatHang.TEN_MAT_HANG LIKE @name\r\n",
                ""
            ],
            "metadata": {
                "azdata_cell_guid": "2d2e8f6b-ae83-4d22-8643-e33c72d39625"
            },
            "outputs": [],
            "execution_count": null
        },
        {
            "cell_type": "code",
            "source": [
                " -- Ghi các mặt hàng có trong hóa đơn vào bảng MatHang_HD\r\n",
                "    CREATE OR ALTER PROCEDURE Cap_nhat_mat_hang_trong_hoa_don @B_ID SMALLINT, @H_ID SMALLINT,@amount TINYINT AS\r\n",
                "    --- @param:* @B_ID\r\n",
                "            --*  @H_ID\r\n",
                "            --*  @amount\r\n",
                "        DECLARE @soluonghangconlai TINYINT;\r\n",
                "        DECLARE @trangthai NVARCHAR(15);\r\n",
                "        DECLARE @OK NVARCHAR(20);\r\n",
                "        DECLARE @NotOk NVARCHAR(100);\r\n",
                "        SET @OK = N'Thành công.';\r\n",
                "        SET @NotOk = N'Thất bại, số lượng hàng trong kho không đủ hoặc đơn hàng đang(đã) giao! Xin vui lòng thử lại';\r\n",
                "        SET @soluonghangconlai = (\r\n",
                "            SELECT CON_LAI FROM MatHang\r\n",
                "            WHERE MatHang.H_ID = @H_ID\r\n",
                "        ); -- get số lượng còn lại của mặt hàng có mã @H_ID trong kho\r\n",
                "        SET @trangthai = (\r\n",
                "            select TRANG_THAI from HoaDon\r\n",
                "            WHERE HoaDon.B_ID = @B_ID\r\n",
                "        ) -- get trạng thái của đơn hàng có mã @B_ID\r\n",
                "        IF  @soluonghangconlai >= @amount and @trangthai = N'Chờ xác nhận'  \r\n",
                "                -- Kiểm tra trong kho hàng có đủ lượng @amount khách hàng yêu cầu hay không.\r\n",
                "            BEGIN\r\n",
                "                INSERT INTO MatHang_HD(H_ID, B_ID,SO_LUONG) \r\n",
                "                    VALUES(\r\n",
                "                        @H_ID, -- H_ID; ID mặt hàng mua\r\n",
                "                        @B_ID,-- B_ID; ID hóa đơn mua\r\n",
                "                        @amount -- SO_LUONG \r\n",
                "                    )\r\n",
                "                -- sau khi (thêm) bán thì phải trừ đi số lượng đã bán\r\n",
                "                UPDATE MatHang\r\n",
                "                    SET MatHang.CON_LAI = (MatHang.CON_LAI - @amount)\r\n",
                "                    WHERE MatHang.H_ID = @H_ID\r\n",
                "                SELECT @OK AS THANH_CONG\r\n",
                "            END\r\n",
                "        ELSE  -- Nếu kho không đủ thì không thực hiện cập nhật\r\n",
                "            BEGIN\r\n",
                "            (SELECT @NotOk AS THAT_BAI)\r\n",
                "            END\r\n",
                "        \r\n",
                ""
            ],
            "metadata": {
                "azdata_cell_guid": "49971593-1db9-486f-a375-b465577ce771"
            },
            "outputs": [],
            "execution_count": null
        },
        {
            "cell_type": "code",
            "source": [
                "\r\n",
                "    -- Update tổng tiền hàng cho tất cả các bills mới được thêm mới.\r\n",
                " CREATE or ALTER PROCEDURE Update_Bills AS\r\n",
                "\r\n",
                "    UPDATE HoaDon\r\n",
                "        SET HoaDon.TONG_TIEN = bSum.SUM + HoaDon.PHI_SHIP_VND , \r\n",
                "            HoaDon.KHUYEN_MAI_VND = bSum.DISCOUNT\r\n",
                "        FROM\r\n",
                "             (\r\n",
                "            HoaDon AS h\r\n",
                "            INNER JOIN\r\n",
                "                (\r\n",
                "                SELECT B_ID, SUM( SO_LUONG* (GIA - KHUYEN_MAI)  )  as [SUM], -- Chưa cộng phí ship\r\n",
                "                    SUM(SO_LUONG*KHUYEN_MAI)                   as DISCOUNT\r\n",
                "                FROM VIEWALL\r\n",
                "                GROUP BY B_ID\r\n",
                "                )  AS bSum\r\n",
                "                ON h.B_ID = bSum.B_ID\r\n",
                "            )\r\n",
                "            INNER JOIN \r\n",
                "                HoaDon\r\n",
                "            ON h.B_ID = HoaDon.B_ID\r\n",
                "        WHERE HoaDon.TONG_TIEN IS NULL AND HoaDon.TRANG_THAI = N'Chờ xác nhận'  --- Hóa đơn mới tạo mới cần cập nhật tổng tiền\r\n",
                "    \r\n",
                "\r\n",
                "\r\n",
                "\r\n",
                "\r\n",
                "\r\n",
                "-----------------------------------------------------------------------------------------------------------------------------------------------------\r\n",
                ""
            ],
            "metadata": {
                "azdata_cell_guid": "8bda6fc7-932d-4020-b39b-6c5b416bcc79"
            },
            "outputs": [],
            "execution_count": null
        },
        {
            "cell_type": "code",
            "source": [
                "--    Shipper xác nhận đơn:\r\n",
                "    CREATE OR ALTER PROCEDURE Shipper_Confirm_Bill @Who SMALLINT, @WhichBill SMALLINT AS\r\n",
                "    /* \r\n",
                "      *@param: @Who - Mã id shipper\r\n",
                "               @WhichBll - Mã id đơn hàng\r\n",
                "    */\r\n",
                "        UPDATE HoaDon\r\n",
                "            SET S_ID = @Who , TRANG_THAI = N'Đang giao', THOI_GIAN_SHIPPER_XAC_NHAN = GETDATE()\r\n",
                "        WHERE B_ID = @WhichBill AND TRANG_THAI = N'Chờ xác nhận'  -- chỉ những hóa đơn đang ở trạng thái \"Chờ xác nhận\" \r\n",
                "                                                                   --thì shipper mới có quyền nhận đơn\r\n",
                "\r\n",
                "\r\n",
                "\r\n",
                "-----------------------------------------------------------------------------------------------------------------------------------------------------\r\n",
                "\r\n",
                ""
            ],
            "metadata": {
                "azdata_cell_guid": "c333004d-aaa8-45dc-9c4c-8b36614fab57"
            },
            "outputs": [],
            "execution_count": null
        },
        {
            "cell_type": "code",
            "source": [
                " -- Khách hàng nhận hàng:\r\n",
                "    CREATE OR ALTER PROCEDURE Customer_Received @WhichBill SMALLINT, @TinhTrang NVARCHAR(50), @danhgia TINYINT AS\r\n",
                "    /* \r\n",
                "      *@param:  @WhichBill- Mã id đơn hàng\r\n",
                "                @TinhTrang - Cho biết tình trạng, đánh giá tổng quan đơn hàng\r\n",
                "                @danhgia - Đánh giá cho shipper\r\n",
                "    */\r\n",
                "        UPDATE HoaDon\r\n",
                "        SET TRANG_THAI = N'Đã giao', THOI_GIAN_NHAN_HANG = GETDATE(), TINH_TRANG_DON_HANG = @TinhTrang, DANH_GIA_DON_HANG = @danhgia\r\n",
                "           WHERE B_ID = @WhichBill AND TRANG_THAI = N'Đang giao'\r\n",
                ""
            ],
            "metadata": {
                "azdata_cell_guid": "f867a5a6-b191-4937-8f23-b7b85486f94e"
            },
            "outputs": [],
            "execution_count": null
        },
        {
            "cell_type": "code",
            "source": [
                "-- Khách hàng hủy đơn hàng có mã @WhichBill với điều kiện TRANG_THAI = N'Chờ xác nhận'  \r\n",
                "--CREATE OR ALTER PROCEDURE Customer_Cancel @WhichBill SMALLINT AS\r\n",
                "            DECLARE @TrangThai NVARCHAR(20) = (\r\n",
                "                SELECT TRANG_THAI from HoaDon\r\n",
                "            )\r\n",
                "        IF @TrangThai = N'Chờ xác nhận'  \r\n",
                "            BEGIN\r\n",
                "                -- Chuyển hóa đơn về trạng thái hủy\r\n",
                "                UPDATE HoaDon\r\n",
                "                    SET @TrangThai = N'Đã hủy'\r\n",
                "                WHERE B_ID = @WhichBill\r\n",
                "                -- Trả lại hàng cho quán\r\n",
                "                UPDATE MatHang\r\n",
                "                    SET MatHang.CON_LAI = MatHang.CON_LAI + VIEWALL.SO_LUONG\r\n",
                "                FROM  VIEWALL \r\n",
                "                WHERE VIEWALL.B_ID = @WhichBill\r\n",
                "            END\r\n",
                "        ELSE\r\n",
                "            SELECT N'Không thể hoàn tất,đơn hàng đang được giao. Hãy liên lạc với nhân viên để được biết thêm chi tiết.' AS THAT_BAI\r\n",
                "            ---------------------------------------------------------------------------------------------------------------------------------------------------"
            ],
            "metadata": {
                "azdata_cell_guid": "524f3a6c-bf79-4a84-84bb-7149d09d2907"
            },
            "outputs": [],
            "execution_count": null
        },
        {
            "cell_type": "code",
            "source": [
                "-- 4, Cập nhật điểm tích lũy cho khách hàng, số sao cho Shipper:\r\n",
                "    CREATE or ALTER PROCEDURE UpdateKhachHangAndShipper AS\r\n",
                "        -- Khách hàng mua một đơn hàng thành công sẽ +1 điểm tích lũy\r\n",
                "        -- KhachHang\r\n",
                "        UPDATE KhachHang\r\n",
                "            SET KhachHang.DIEM_TICH_LUY = TinhDiem.DIEMTICHLUY\r\n",
                "            from\r\n",
                "                (SELECT C_ID, COUNT(C_ID) as DIEMTICHLUY from HoaDon\r\n",
                "                WHERE TRANG_THAI = N'Đã giao'\r\n",
                "                GROUP BY C_ID) AS TinhDiem\r\n",
                "            WHERE TinhDiem.C_ID = KhachHang.C_ID\r\n",
                "        \r\n",
                "        -- Shippers\r\n",
                "        -- Shipper giao hàng và được đánh giá sẽ được tính số đánh giá trung bình:\r\n",
                "        UPDATE Shippers\r\n",
                "            SET Shippers.DANH_GIA = DanhGia.DANH_GIA\r\n",
                "        FROM \r\n",
                "        (SELECT S_ID, AVG( DANH_GIA_DON_HANG ) as DANH_GIA \r\n",
                "        from HoaDon\r\n",
                "        GROUP BY S_ID ) as DanhGia\r\n",
                "        WHERE Shippers.S_ID = DanhGia.S_ID\r\n",
                "        \r\n",
                "        -- Cập nhật số sao đánh giá, số điểm tích lũy liên tục"
            ],
            "metadata": {
                "azdata_cell_guid": "651d5a7f-6447-4be5-ba45-ef06fa0ddc56"
            },
            "outputs": [],
            "execution_count": null
        },
        {
            "cell_type": "code",
            "source": [
                "\r\n",
                "    -- Nộp tiền phí:\r\n",
                "\r\n",
                "    CREATE OR ALTER PROCEDURE NopPhi @ID_Phi TINYINT,@Who CHAR ,@month TINYINT,@year SMALLINT AS\r\n",
                "    /*\r\n",
                "      * @param: @ID_Phi : ID nộp phí trong bảng nộp phí, Shipper = FS_ID; CuaHang = FP_ID\r\n",
                "                @Who    : Chỉ định đối tượng nộp phí: 'S' or 's'-> Shipper; 'P' or 'p' -> CuaHang \r\n",
                "                @month  : Chỉ định tháng mà đối tượng nộp phí\r\n",
                "                @year   : Chỉ định năm đối tượng đóng: // cần thiết cho năm vì trường hợp sang năm mới thì mới nộp cho tháng 12 năm trước\r\n",
                "    */ \r\n",
                "        DECLARE @check NVARCHAR(10) = ( SELECT TRANG_THAI \r\n",
                "                                    from PhiShippers \r\n",
                "                                    WHERE FS_ID = @ID_Phi and THANG = @month\r\n",
                "                                          and NAM = @year and TIEN_PHI_THANG IS NOT NULL)\r\n",
                "            -- Nếu @check = '' thì có nghĩa là FS_ID không tồn tại trong hệ thống\r\n",
                "        DECLARE @check1 NVARCHAR(10) = ( SELECT TRANG_THAI \r\n",
                "                                        from PhiCuaHang \r\n",
                "                                        WHERE FP_ID = @ID_Phi and THANG = @month\r\n",
                "                                              and NAM = @year and TIEN_PHI_THANG IS NOT NULL)\r\n",
                "            -- Nếu @check1 = '' thì có nghĩa là FP_ID không tồn tại trong hệ thống hoặc tháng không hợp lệ\r\n",
                "        -- THƯỜNG xảy ra 3 trường hợp:\r\n",
                "        --                    1: Không tồn tại @thang, @ID_Phi trong database\r\n",
                "        --                    2: @ID_Phi trong @thang đã nộp tiền phí \r\n",
                "        --                    3: @ID_Phi trong @thang chưa nộp tiền phí \r\n",
                "\r\n",
                "        IF ( LOWER(@who) = 's' ) and @check != ''                                  \r\n",
                "            BEGIN\r\n",
                "                IF @check = N'Chưa nộp'\r\n",
                "                    BEGIN\r\n",
                "                        UPDATE PhiShippers\r\n",
                "                            SET TRANG_THAI = N'Đã nộp', THOI_GIAN_NOP = GETDATE()\r\n",
                "                        WHERE FS_ID = @ID_Phi and THANG = @month and NAM = @year\r\n",
                "                        SELECT N'Đã nộp thành công.' AS SUCCESS\r\n",
                "                    END\r\n",
                "                ELSE\r\n",
                "                    SELECT N'Bạn đã nộp rồi!' AS SHIPPER_DA_NOP\r\n",
                "            END\r\n",
                "        IF (LOWER(@who) = 'p') and @check1 != ''   \r\n",
                "            BEGIN\r\n",
                "                IF @check1 = N'Chưa nộp'\r\n",
                "                    BEGIN\r\n",
                "                        UPDATE PhiCuaHang\r\n",
                "                            SET TRANG_THAI = N'Đã nộp',THOI_GIAN_NOP = GETDATE()\r\n",
                "                        WHERE FP_ID = @ID_Phi and THANG = @month and NAM = @year \r\n",
                "                        SELECT N'Đã nộp thành công.' AS SUCCESS\r\n",
                "                    END\r\n",
                "                ELSE\r\n",
                "                    SELECT N'Bạn đã nộp rồi!' AS CUA_HANG_DA_NOP\r\n",
                "            END\r\n",
                "        ELSE\r\n",
                "            SELECT N'Có lỗi xảy ra, xin vui lòng thử lại.' AS ERORR\r\n",
                ""
            ],
            "metadata": {
                "azdata_cell_guid": "a1d4f269-3ff0-46f2-aedf-3f3a033f745d"
            },
            "outputs": [],
            "execution_count": null
        },
        {
            "cell_type": "code",
            "source": [
                "-- Tính số tiền công ty đã nhận được từ việc nộp phí của Shipper và CuaHang\r\n",
                " CREATE or ALTER PROCEDURE Monthly_Revenue @thang int AS\r\n",
                "\r\n",
                "        SELECT SUM(TONG.TONG) AS TONG_DOANH_THU FROM\r\n",
                "            (SELECT SUM(TIEN_PHI_THANG) AS TONG FROM PhiShippers\r\n",
                "                WHERE THANG = @thang AND TRANG_THAI = N'Đã nộp' and NAM = YEAR(GETDATE())\r\n",
                "            UNION\r\n",
                "            SELECT SUM(TIEN_PHI_THANG) AS TONG FROM PhiCuaHang\r\n",
                "                WHERE THANG = @thang AND TRANG_THAI = N'Đã nộp' and NAM = YEAR(GETDATE())\r\n",
                "            ) AS TONG\r\n",
                "\r\n",
                "\r\n",
                "\r\n",
                "-----------------------------------------------------------------------------------------------------------------------------------------------------\r\n",
                ""
            ],
            "metadata": {
                "azdata_cell_guid": "32096b93-60c6-4ad0-bff9-d45bc20829b5"
            },
            "outputs": [],
            "execution_count": null
        },
        {
            "cell_type": "code",
            "source": [
                "--Đưa ra danh sách các khách hàng, shipper, chưa nộp phí dịch vụ trong tháng\r\n",
                "    --- Gồm các shipper + Cửa hàng chưa nộp phí trong những tháng < @thang\r\n",
                "    CREATE OR ALTER FUNCTION TON_NO(@thang INT,@year SMALLINT)\r\n",
                "    RETURNS TABLE \r\n",
                "    AS  \r\n",
                "        RETURN\r\n",
                "            SELECT PHI_ID,bang1.ID,TEN,THANG\r\n",
                "            from\r\n",
                "                (\r\n",
                "                Select FS_ID AS PHI_ID,S_ID AS ID,THANG,NAM,TRANG_THAI from PhiShippers\r\n",
                "                UNION\r\n",
                "                SELECt FP_ID AS PHI_ID, P_ID AS ID,THANG,NAM,TRANG_THAI FROM PhiCuaHang\r\n",
                "                )\r\n",
                "                AS bang1\r\n",
                "                INNER JOIN\r\n",
                "                (\r\n",
                "                SELECT S_ID AS ID, HO_VA_TEN  AS TEN FROM Shippers\r\n",
                "                UNION\r\n",
                "                SELECT P_ID,TEN_CUA_HANG from CuaHang\r\n",
                "                ) AS bang2\r\n",
                "                ON bang1.ID = bang2.ID\r\n",
                "            WHERE TRANG_THAI = N'Chưa nộp' AND THANG < @thang and NAM <= @year\r\n",
                "\r\n",
                ""
            ],
            "metadata": {
                "azdata_cell_guid": "987cb1c6-debc-4172-bd55-d51df71398f4"
            },
            "outputs": [],
            "execution_count": null
        },
        {
            "cell_type": "code",
            "source": [
                " --Đưa ra danh sách khách hàng có điểm tích lũy đạt các mốc: 50,100,200,500\r\n",
                "    CREATE OR ALTER  FUNCTION KH_DiemTichLuy(@diem INT)\r\n",
                "         RETURNS TABLE AS RETURN(\r\n",
                "            SELECT * FROM dbo.KhachHang\r\n",
                "            WHERE DIEM_TICH_LUY = @diem  -- Số điểm mốc cần truy cứu\r\n",
                "         )\r\n",
                ""
            ],
            "metadata": {
                "azdata_cell_guid": "99fd71b1-6998-4169-8927-1c95be2ca105"
            },
            "outputs": [],
            "execution_count": null
        },
        {
            "cell_type": "code",
            "source": [
                "-- top 3 mặt hàng mua nhiều nhất trong tháng\r\n",
                "CREATE PROCEDURE Best_Selling @thang INT AS\r\n",
                "        SELECT TOP 3 H_ID,TEN_MAT_HANG, SUM(SO_LUONG) AS SO_LUONG_MUA\r\n",
                "        FROM VIEWALL\r\n",
                "        WHERE THANG = @thang AND NAM = YEAR(GETDATE())\r\n",
                "        GROUP BY H_ID,TEN_MAT_HANG\r\n",
                "        ORDER BY SO_LUONG_MUA DESC"
            ],
            "metadata": {
                "azdata_cell_guid": "c2b60f22-2940-456b-99ea-415dfa14dfe5"
            },
            "outputs": [],
            "execution_count": null
        },
        {
            "cell_type": "code",
            "source": [
                "-- Kiểm tra khuyến mại đang có \r\n",
                "CREATE OR ALTER PROCEDURE Check_Discount AS\r\n",
                "                SELECT * from MatHang\r\n",
                "                WHERE   KHUYEN_MAI > 0\r\n",
                ""
            ],
            "metadata": {
                "azdata_cell_guid": "a4a11182-d809-4c21-9b0d-e1e8e6bb734b"
            },
            "outputs": [],
            "execution_count": null
        }
    ]
}