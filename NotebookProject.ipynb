{
    "metadata": {
        "kernelspec": {
            "name": "SQL",
            "display_name": "SQL",
            "language": "sql"
        },
        "language_info": {
            "name": "sql",
            "version": ""
        },
        "extensions": {
            "azuredatastudio": {
                "version": 1,
                "views": []
            }
        }
    },
    "nbformat_minor": 2,
    "nbformat": 4,
    "cells": [
        {
            "cell_type": "code",
            "source": [
                "--  1, CuaHang:\r\n",
                "        /*Cập nhật ID của CuaHang mới trong hệ thống vào bảng PhiCuaHang: */\r\n",
                "    CREATE OR ALTER PROCEDURE ADD_CuaHang AS\r\n",
                "        INSERT INTO \r\n",
                "            PhiCuaHang(P_ID)\r\n",
                "            SELECT P_ID from CuaHang \r\n",
                "                        WHERE   MONTH(GETDATE()) > ALL (\r\n",
                "                                    SELECT THANG FROM PhiCuaHang --- Trường hợp sang tháng mới\r\n",
                "                                )  OR YEAR(GETDATE()) > ALL (\r\n",
                "                                    SELECT NAM FROM PhiCuaHang --- Trường hợp sang năm mới\r\n",
                "                                )  OR P_ID != ALL (\r\n",
                "                                    SELECT P_ID from PhiCuaHang  --- Trường hợp có thêm CuaHang mới\r\n",
                "                                )\r\n",
                "        -------------------------------------------------------------------------------------\r\n",
                "    -- -- SELECT * from PhiCuaHang"
            ],
            "metadata": {
                "azdata_cell_guid": "be6dae16-b59b-47f0-8f44-d4b21ce5d1f9"
            },
            "outputs": [
                {
                    "output_type": "display_data",
                    "data": {
                        "text/html": "Commands completed successfully."
                    },
                    "metadata": {}
                },
                {
                    "output_type": "display_data",
                    "data": {
                        "text/html": "Total execution time: 00:00:00.009"
                    },
                    "metadata": {}
                }
            ],
            "execution_count": 1
        },
        {
            "cell_type": "code",
            "source": [
                "-- 2, Shippers\r\n",
                "    --     /*Cập nhật ID của Shipper mới trong hệ thống vào bảng PhiShippers */\r\n",
                "\r\n",
                "    CREATE OR ALTER PROCEDURE ADD_Shipper AS\r\n",
                "\r\n",
                "        INSERT INTO \r\n",
                "            PhiShippers(S_ID)\r\n",
                "            SELECT S_ID from Shippers \r\n",
                "                            WHERE MONTH(GETDATE()) > ALL (\r\n",
                "                                SELECT THANG FROM PhiShippers\r\n",
                "                            ) OR YEAR(GETDATE()) > ALL (\r\n",
                "                                SELECT NAM FROM PhiShippers\r\n",
                "                            ) OR S_ID != ALL (\r\n",
                "                                SELECT S_ID from PhiShippers\r\n",
                "                            )\r\n",
                "                \r\n",
                "        -- SELECT * from PhiShippers\r\n",
                "\r\n",
                ""
            ],
            "metadata": {
                "azdata_cell_guid": "54582f0b-f2e3-4292-93b5-d153bbc9d101"
            },
            "outputs": [
                {
                    "output_type": "display_data",
                    "data": {
                        "text/html": "Commands completed successfully."
                    },
                    "metadata": {}
                },
                {
                    "output_type": "display_data",
                    "data": {
                        "text/html": "Total execution time: 00:00:00.003"
                    },
                    "metadata": {}
                }
            ],
            "execution_count": 2
        },
        {
            "cell_type": "code",
            "source": [
                "        /*Tính phí phải trả của Shipper mỗi cuối tháng và cập nhật vào trong bảng PhiShippers */\r\n",
                "     CREATE or ALTER PROCEDURE Update_ShipperFee AS\r\n",
                "        UPDATE PhiShippers\r\n",
                "            SET PhiShippers.SO_TIEN_KIEM_DUOC_TRONG_THANG = sSum.TONG_TIEN_SHIP ,\r\n",
                "                PhiShippers.TIEN_PHI_THANG = sSum.PHI_PHAI_TRA\r\n",
                "            FROM\r\n",
                "                PhiShippers as s\r\n",
                "                INNER JOIN\r\n",
                "                (\r\n",
                "                SELECT  HoaDon.S_ID,\r\n",
                "                        SUM(HoaDon.PHI_SHIP_VND) as TONG_TIEN_SHIP,\r\n",
                "                        SUM(HoaDon.PHI_SHIP_VND)*0.3 as PHI_PHAI_TRA,\r\n",
                "                        -- Hệ số tính: Lấy 30% tổng số tiền phí ship mà shipper nhận được trong mỗi đơn hàng\r\n",
                "                        MONTH(GETDATE()) as Thang ,\r\n",
                "                        YEAR(GETDATE()) as NAM\r\n",
                "                    from HoaDon\r\n",
                "                WHERE HoaDon.TRANG_THAI = N'Đã giao' \r\n",
                "                        AND  \r\n",
                "                        MONTH(HoaDon.THOI_GIAN_NHAN_HANG) = MONTH(GETDATE())\r\n",
                "                        AND \r\n",
                "                        YEAR(HoaDon.THOI_GIAN_NHAN_HANG) = YEAR(GETDATE())\r\n",
                "\r\n",
                "                /*\r\n",
                "                *chỉ những đơn hàng \"Đã giao\" thì hệ thống mới thực sự tính phí cho shipper, nếu đơn hàng ở trạng thái đang giao thì vẫn chưa coi\r\n",
                "                 là một đơn hàng thành công -> shipper vẫn chưa nhận được tiền phí ship.\r\n",
                "                * Điều kiện WHERE nhấn mạnh rằng tiền phí tháng/ năm nào thì phải tính cho shipper ở tháng/ năm đấy\r\n",
                "                 */\r\n",
                "                GROUP BY S_ID\r\n",
                "                ) as sSum\r\n",
                "                ON s.S_ID = sSum.S_ID and sSum.Thang = s.THANG and sSum.NAM = s.NAM\r\n",
                "\r\n",
                "\r\n",
                "\r\n",
                "-----------------------------------------------------------------------------------------------------------------------------------------------------\r\n",
                ""
            ],
            "metadata": {
                "azdata_cell_guid": "7f8e34e1-b047-4740-b93c-d6ac6840d3f0"
            },
            "outputs": [
                {
                    "output_type": "display_data",
                    "data": {
                        "text/html": "Commands completed successfully."
                    },
                    "metadata": {}
                },
                {
                    "output_type": "display_data",
                    "data": {
                        "text/html": "Total execution time: 00:00:00.004"
                    },
                    "metadata": {}
                }
            ],
            "execution_count": 3
        },
        {
            "cell_type": "code",
            "source": [
                "-- kiểm tra mặt hàng có tên @name, số lượng ít nhất là @min có cửa hàng nào đáp ứng được không\r\n",
                "CREATE OR ALTER PROCEDURE Check_If_Available @name NVARCHAR(10),@min INT = 1 AS\r\n",
                "        SELECT H_ID,BA_ID,CuaHang.P_ID,TEN_CUA_HANG,DIA_CHI,TRANG_THAI,TEN_MAT_HANG,GIA,KHUYEN_MAI from \r\n",
                "        MatHang\r\n",
                "        INNER JOIN\r\n",
                "        CuaHang\r\n",
                "        ON MatHang.P_ID = CuaHang.P_ID\r\n",
                "        INNER JOIN\r\n",
                "        CoSoCH\r\n",
                "        ON CoSoCH.P_ID = CuaHang.P_ID\r\n",
                "        WHERE   MatHang.CON_LAI >= @min and TRANG_THAI = N'Mở'  AND MatHang.TEN_MAT_HANG LIKE @name\r\n",
                "\r\n",
                ""
            ],
            "metadata": {
                "azdata_cell_guid": "2d2e8f6b-ae83-4d22-8643-e33c72d39625"
            },
            "outputs": [
                {
                    "output_type": "display_data",
                    "data": {
                        "text/html": "Commands completed successfully."
                    },
                    "metadata": {}
                },
                {
                    "output_type": "display_data",
                    "data": {
                        "text/html": "Total execution time: 00:00:00.009"
                    },
                    "metadata": {}
                }
            ],
            "execution_count": 1
        },
        {
            "cell_type": "code",
            "source": [
                "-- Tạo một hóa đơn mới :\r\n",
                "CREATE OR ALTER PROCEDURE ADD_BILL \r\n",
                "    @C_ID SMALLINT,\r\n",
                "    @NGUOI_NHAN NVARCHAR(30) =  N'', \r\n",
                "    @DCGH NVARCHAR(60) = '',\r\n",
                "    @STD CHAR(13) = '', \r\n",
                "    @PTTT NVARCHAR(40) ='', \r\n",
                "    @GC NVARCHAR(50) = N''\r\n",
                "    AS\r\n",
                "    -- Thêm hóa đơn cho khách hàng có mã id là @C_ID\r\n",
                "    DECLARE @bid SMALLINT;\r\n",
                "    -- Kiểm tra các tham số mặc địch, liệu có được thêm vào hay không?\r\n",
                "    --- NGUOI NHAN\r\n",
                "IF (@NGUOI_NHAN != N'' and @STD != N'' and @STD != N'') or ( @NGUOI_NHAN = N'' and @STD = N'' and @DCGH = N'')\r\n",
                "    BEGIN\r\n",
                "    IF @NGUOI_NHAN != N'' and @STD != N'' and @STD != N''\r\n",
                "        BEGIN\r\n",
                "            INSERT INTO HoaDon( C_ID,NGUOI_NHAN,SDT_NGUOI_NHAN, DIA_CHI_GIAO_HANG ) \r\n",
                "            VALUES(@C_ID,@NGUOI_NHAN,@STD,@DCGH)\r\n",
                "            SET @bid = (\r\n",
                "                SELECT B_ID FROM HoaDon WHERE C_ID = @C_ID and TRANG_THAI = N'Đang xử lý'\r\n",
                "            )\r\n",
                "            UPDATE HoaDon\r\n",
                "            SET NGUOI_NHAN = @NGUOI_NHAN,SDT_NGUOI_NHAN = @STD,DIA_CHI_GIAO_HANG = @DCGH\r\n",
                "            WHERE B_ID = @bid \r\n",
                "        END\r\n",
                "    IF @NGUOI_NHAN = N'' and @STD = N'' and @DCGH = N''\r\n",
                "        BEGIN\r\n",
                "        INSERT INTO HoaDon( C_ID,NGUOI_NHAN,SDT_NGUOI_NHAN, DIA_CHI_GIAO_HANG ) \r\n",
                "        VALUES(@C_ID,@NGUOI_NHAN,@STD,@DCGH)\r\n",
                "        SET @bid = (\r\n",
                "                SELECT B_ID FROM HoaDon WHERE C_ID = @C_ID and TRANG_THAI = N'Đang xử lý'\r\n",
                "            )\r\n",
                "        SET @NGUOI_NHAN = (\r\n",
                "            SELECT HO_VA_TEN FROM KhachHang\r\n",
                "            WHERE @C_ID = C_ID\r\n",
                "        )\r\n",
                "        SET  @STD  = (\r\n",
                "            SELECT SDT FROM KhachHang\r\n",
                "            WHERE @C_ID = C_ID\r\n",
                "        )\r\n",
                "\r\n",
                "         SET @DCGH = (\r\n",
                "            SELECT DIA_CHI FROM KhachHang\r\n",
                "            WHERE @C_ID = C_ID\r\n",
                "        )\r\n",
                "        UPDATE HoaDon\r\n",
                "        SET NGUOI_NHAN = @NGUOI_NHAN,SDT_NGUOI_NHAN = @STD,DIA_CHI_GIAO_HANG = @DCGH\r\n",
                "        WHERE B_ID = @bid \r\n",
                "        END\r\n",
                "    END\r\n",
                "    ELSE\r\n",
                "        SELECT N'Bỏ trống(mặc định giá trị của khách hàng) @NGUOI_NHAN, @STD,@STD hoặc nhập cả 3 tùy chọn.' AS THAT_BAI\r\n",
                "\r\n",
                "    -- SDT Nguoi nhan:\r\n",
                "    --- DIA CHI GIAO HANG\r\n",
                "    ---  PHUONG THUC THANH TOAN, NẾU KHÔNG GHI THÊM GÌ THÌ PTTT MẶC ĐỊNH LÀ THANH TOÁN KHI NHẬN HÀNG\r\n",
                "    IF @PTTT != N''\r\n",
                "        BEGIN\r\n",
                "            UPDATE HoaDon\r\n",
                "            SET PHUONG_THUC_THANH_TOAN = @PTTT\r\n",
                "            WHERE B_ID = @bid \r\n",
                "        END\r\n",
                "    --- Ghi chú\r\n",
                "    IF @GC != N''\r\n",
                "        BEGIN\r\n",
                "            UPDATE HoaDon\r\n",
                "            SET GHI_CHU = @GC\r\n",
                "            WHERE B_ID = @bid \r\n",
                "        END\r\n",
                "    --------------------END-----------------"
            ],
            "metadata": {
                "azdata_cell_guid": "3cf94960-0c8b-4b23-8de1-eb2c6015ac0b",
                "tags": []
            },
            "outputs": [
                {
                    "output_type": "display_data",
                    "data": {
                        "text/html": "Commands completed successfully."
                    },
                    "metadata": {}
                },
                {
                    "output_type": "display_data",
                    "data": {
                        "text/html": "Total execution time: 00:00:00.024"
                    },
                    "metadata": {}
                }
            ],
            "execution_count": 10
        },
        {
            "cell_type": "code",
            "source": [
                " -- Ghi các mặt hàng có trong hóa đơn vào bảng MatHang_HD, hay 'thêm vào giỏ hàng'\r\n",
                "\r\n",
                "    CREATE OR ALTER PROCEDURE Cap_nhat_mat_hang_trong_hoa_don\r\n",
                "     @B_ID SMALLINT, \r\n",
                "     @H_ID SMALLINT = -1,\r\n",
                "     @amount TINYINT = 1,\r\n",
                "     @command CHAR(10) ='add',\r\n",
                "     -- @end = 'n' có nghĩa là khách hàng đang còn muốn mua thêm, chưa chốt đơn hàng của mình.\r\n",
                "     @phiship INT = -1\r\n",
                "     --   command hợp lệ : 'add'; 'end'; 'delete'\r\n",
                "     -- Mô tả:\r\n",
                "    --  Có 3 trường hợp xảy ra:\r\n",
                "    --          khách hàng muốn thêm mặt hàng vào hóa đơn của mình\r\n",
                "    --          Khách hàng khi đã thêm hóa đơn nhưng lại thay đổi ý định và xóa mặt hàng đó ra khỏi hóa đơn vì một vài lý do\r\n",
                "    --          khách hàng xác nhận command = 'end' với trạng thái không có mặt hàng nào trong hóa đơn\r\n",
                "    -- Ví dụ các cặp value - command hợp lệ(thường có):\r\n",
                "        --  EXEC   Cap_nhat_mat_hang_trong_hoa_don @B_ID = 100, @H_ID =100, @command = 'add' // thêm mặt hàng 100 và hóa đơn mã 100, số lượng =1 \r\n",
                "        --  EXEC   Cap_nhat_mat_hang_trong_hoa_don @B_ID = 100, @H_ID =100,@amount = n, @command = 'add' // thêm mặt hàng 100 và hóa đơn mã 100, số lượng = n\r\n",
                "        --  EXEC   Cap_nhat_mat_hang_trong_hoa_don @B_ID = 100, @H_ID =100,@amount = n // thêm mặt hàng 100 và hóa đơn mã 100, số lượng = n\r\n",
                "        --  EXEC   Cap_nhat_mat_hang_trong_hoa_don @B_ID = 100,@phiship = 30000,@command = 'end' // kết kết thúc hóa đơn, phí ship là 30000\r\n",
                "        --  EXEC   Cap_nhat_mat_hang_trong_hoa_don @B_ID = 100,@H_ID = 101, @command = 'delete' // xóa mặt hàng 101 khỏi hóa đơn 100\r\n",
                "\r\n",
                "\r\n",
                "\r\n",
                "      AS \r\n",
                "    --- @param:* @B_ID\r\n",
                "            --*  @H_ID\r\n",
                "            --*  @amount : default = 1\r\n",
                "            --*  @end\r\n",
                "        DECLARE @soluonghangconlai TINYINT = (\r\n",
                "            SELECT CON_LAI FROM MatHang\r\n",
                "            WHERE MatHang.H_ID = @H_ID\r\n",
                "        ); -- lấy số lượng còn lại của mặt hàng có mã @H_ID trong kho\r\n",
                "        DECLARE @trangthai NVARCHAR(15)  = (\r\n",
                "            select TRANG_THAI from HoaDon\r\n",
                "            WHERE HoaDon.B_ID = @B_ID\r\n",
                "        ); -- lấy trạng thái của đơn hàng có mã @B_ID\r\n",
                "        DECLARE @checkZero TINYINT = (\r\n",
                "            SELECT COUNT(H_ID) from MatHang_HD WHERE  B_ID = @B_ID\r\n",
                "        )\r\n",
                "        ------\r\n",
                "IF (LOWER(@command) = 'end' or LOWER(@command) = 'add' or  LOWER(@command)= 'delete') and @trangthai = N'Đang xử lý'\r\n",
                "BEGIN\r\n",
                "\r\n",
                "            IF LOWER(@command)  = 'end' -- add có nghĩa là chốt đơn hàng, hóa đơn sẵn sàng được shipper xác nhận\r\n",
                "                BEGIN\r\n",
                "\r\n",
                "                    IF @checkZero = 0\r\n",
                "                        BEGIN\r\n",
                "                        -- Đơn hàng không có mặt hàng nào sẽ bị xóa khỏi hệ thống\r\n",
                "                            DELETE FROM HoaDon WHERE B_ID = @B_ID\r\n",
                "                        -- Thông báo\r\n",
                "                            SELECT N'Đã xóa đơn hàng' AS XOA_DON_HANG\r\n",
                "                        END\r\n",
                "\r\n",
                "                    IF @phiship <= -1 and @checkZero !=0\r\n",
                "                        BEGIN\r\n",
                "                            SELECT N'Nhập phí ship cho đơn hàng!' AS CHUA_NHAP_PHI_SHIP  \r\n",
                "                        END\r\n",
                "                    IF @phiship >=0 and @checkZero !=0\r\n",
                "                        BEGIN\r\n",
                "                            UPDATE HoaDon\r\n",
                "                            SET TRANG_THAI = N'Chờ xác nhận',TONG_TIEN = TONG_TIEN + @phiship,PHI_SHIP_VND = @phiship,THOI_GIAN_DAT_HANG = GETDATE()\r\n",
                "                            WHERE B_ID = @B_ID\r\n",
                "                            SELECT N'Đơn hàng đã chuyển sang trạng thái chờ' AS SUCCESS\r\n",
                "                        END\r\n",
                "                END\r\n",
                "    -- IF2   \r\n",
                "            IF @H_ID IN (SELECT @H_ID FROM MatHang)\r\n",
                "                BEGIN   \r\n",
                "                    IF LOWER(@command)  = 'delete' -- delete có nghĩa là xóa mặt hàng có mã H_ID ra khỏi hóa đơn\r\n",
                "                        BEGIN\r\n",
                "                            SET @amount = (\r\n",
                "                                SELECT SO_LUONG  FROM MatHang_HD WHERE @H_ID = H_ID and B_ID = @B_ID\r\n",
                "                            ) -- lấy số lượng hàng có mã H_ID trong BILL mã B_ID\r\n",
                "                            IF @amount != 0 or @amount != NULL\r\n",
                "                                BEGIN \r\n",
                "                                    UPDATE MatHang\r\n",
                "                                        SET MatHang.CON_LAI = (MatHang.CON_LAI + @amount) -- trả lại kho\r\n",
                "                                        WHERE MatHang.H_ID = @H_ID\r\n",
                "                                    DELETE from MatHang_HD WHERE H_ID = @H_ID\r\n",
                "                                    -- Cập nhật lại hóa đơn:\r\n",
                "                                    UPDATE HoaDon\r\n",
                "                                        SET HoaDon.TONG_TIEN = bSum.SUM, \r\n",
                "                                            HoaDon.KHUYEN_MAI_VND = bSum.DISCOUNT\r\n",
                "                                    FROM (\r\n",
                "                                        SELECT SUM( SO_LUONG* (GIA - KHUYEN_MAI)  )  as [SUM],\r\n",
                "                                                SUM(SO_LUONG*KHUYEN_MAI) as DISCOUNT\r\n",
                "                                        FROM VIEWALL -- XEM KHAI BÁO BẢNG VIEWALL ở dưới\r\n",
                "                                        WHERE B_ID = @B_ID and TRANG_THAI = N'Đang xử lý'\r\n",
                "                                    ) as bSum\r\n",
                "                                    WHERE B_ID = @B_ID\r\n",
                "                                    -- xóa khỏi bảng MatHang_HD\r\n",
                "                                END\r\n",
                "                            ELSE\r\n",
                "                                BEGIN\r\n",
                "                                    SELECT N'Bạn đã xóa mặt hàng này rồi' AS THAT_BAI\r\n",
                "                                END\r\n",
                "                        END\r\n",
                "                END\r\n",
                "    -- IF3\r\n",
                "                    IF  LOWER(@command) = 'add' -- add có nghĩa là add thêm hàng\r\n",
                "                        BEGIN\r\n",
                "                            IF @soluonghangconlai >= @amount\r\n",
                "\r\n",
                "                                    -- Kiểm tra trong kho hàng có đủ lượng @amount khách hàng yêu cầu hay không.\r\n",
                "                                BEGIN\r\n",
                "                                    -- Thêm vào giỏ hàng\r\n",
                "                                    INSERT INTO MatHang_HD(H_ID, B_ID,SO_LUONG) \r\n",
                "                                        VALUES(\r\n",
                "                                            @H_ID, -- H_ID; ID mặt hàng mua\r\n",
                "                                            @B_ID,-- B_ID; ID hóa đơn mua\r\n",
                "                                            @amount -- SO_LUONG \r\n",
                "                                        )\r\n",
                "                                    -- sau khi (thêm) bán thì phải trừ đi số lượng đã bán trong bảng MatHang\r\n",
                "                                    UPDATE MatHang\r\n",
                "                                        SET MatHang.CON_LAI = (MatHang.CON_LAI - @amount)\r\n",
                "                                        WHERE MatHang.H_ID = @H_ID\r\n",
                "                                    -- Thêm hàng thì phải nhảy số tiền trên hóa đơn:\r\n",
                "                                    UPDATE HoaDon\r\n",
                "                                        SET HoaDon.TONG_TIEN = bSum.SUM, \r\n",
                "                                            HoaDon.KHUYEN_MAI_VND = bSum.DISCOUNT\r\n",
                "                                    FROM (\r\n",
                "                                        SELECT SUM( SO_LUONG* (GIA - KHUYEN_MAI)  )  as [SUM],\r\n",
                "                                                SUM(SO_LUONG*KHUYEN_MAI) as DISCOUNT\r\n",
                "                                        FROM VIEWALL -- XEM KHAI BÁO BẢNG VIEWALL ở dưới\r\n",
                "                                        WHERE B_ID = @B_ID and TRANG_THAI = N'Đang xử lý'\r\n",
                "                                    ) as bSum\r\n",
                "                                    WHERE B_ID = @B_ID\r\n",
                "                                -- Thông báo thêm mặt hàng thành công cho khách hàng biết\r\n",
                "                                    SELECT N'Thành công!' AS THANH_CONG\r\n",
                "                                    SELECT TONG_TIEN AS TAM_TINH FROM HoaDon WHERE B_ID = @B_ID\r\n",
                "                                END\r\n",
                "                            ELSE  -- Nếu kho không đủ thì không thực hiện cập nhật\r\n",
                "                                BEGIN\r\n",
                "                                    (SELECT N'Thất bại, hãy thử lại.' AS THAT_BAI)\r\n",
                "                                END\r\n",
                "                        END\r\n",
                "                        \r\n",
                "END\r\n",
                "ELSE\r\n",
                "BEGIN\r\n",
                "SELECT N'Có lỗi xảy ra, xin thử lại' AS ERORR\r\n",
                "END"
            ],
            "metadata": {
                "azdata_cell_guid": "49971593-1db9-486f-a375-b465577ce771"
            },
            "outputs": [
                {
                    "output_type": "display_data",
                    "data": {
                        "text/html": "Query was canceled by user"
                    },
                    "metadata": {}
                },
                {
                    "output_type": "display_data",
                    "data": {
                        "text/html": "Total execution time: 00:00:00.021"
                    },
                    "metadata": {}
                }
            ],
            "execution_count": 23
        },
        {
            "cell_type": "code",
            "source": [
                "--    Shipper xác nhận đơn:\r\n",
                "    CREATE OR ALTER PROCEDURE Shipper_Confirm_Bill @Who SMALLINT, @WhichBill SMALLINT AS\r\n",
                "    /* \r\n",
                "      *@param: @Who - Mã id shipper\r\n",
                "               @WhichBll - Mã id đơn hàng\r\n",
                "    */\r\n",
                "        UPDATE HoaDon\r\n",
                "            SET S_ID = @Who , TRANG_THAI = N'Đang giao', THOI_GIAN_SHIPPER_XAC_NHAN = GETDATE()\r\n",
                "        WHERE B_ID = @WhichBill AND TRANG_THAI = N'Chờ xác nhận'  -- chỉ những hóa đơn đang ở trạng thái \"Chờ xác nhận\" \r\n",
                "                                                                   --thì shipper mới có quyền nhận đơn\r\n",
                "\r\n",
                "\r\n",
                "\r\n",
                "-----------------------------------------------------------------------------------------------------------------------------------------------------\r\n",
                "\r\n",
                ""
            ],
            "metadata": {
                "azdata_cell_guid": "c333004d-aaa8-45dc-9c4c-8b36614fab57"
            },
            "outputs": [
                {
                    "output_type": "display_data",
                    "data": {
                        "text/html": "Commands completed successfully."
                    },
                    "metadata": {}
                },
                {
                    "output_type": "display_data",
                    "data": {
                        "text/html": "Total execution time: 00:00:00.003"
                    },
                    "metadata": {}
                }
            ],
            "execution_count": 7
        },
        {
            "cell_type": "code",
            "source": [
                " -- Khách hàng nhận hàng:\r\n",
                "    CREATE OR ALTER PROCEDURE Customer_Received @WhichBill SMALLINT, @TinhTrang NVARCHAR(50), @danhgia TINYINT AS\r\n",
                "    /* \r\n",
                "      *@param:  @WhichBill- Mã id đơn hàng\r\n",
                "                @TinhTrang - Cho biết tình trạng, đánh giá tổng quan đơn hàng\r\n",
                "                @danhgia - Đánh giá cho shipper\r\n",
                "    */\r\n",
                "        UPDATE HoaDon\r\n",
                "        SET TRANG_THAI = N'Đã giao', THOI_GIAN_NHAN_HANG = GETDATE(), TINH_TRANG_DON_HANG = @TinhTrang, DANH_GIA_DON_HANG = @danhgia\r\n",
                "           WHERE B_ID = @WhichBill AND TRANG_THAI = N'Đang giao'\r\n",
                ""
            ],
            "metadata": {
                "azdata_cell_guid": "f867a5a6-b191-4937-8f23-b7b85486f94e",
                "tags": []
            },
            "outputs": [
                {
                    "output_type": "display_data",
                    "data": {
                        "text/html": "Commands completed successfully."
                    },
                    "metadata": {}
                },
                {
                    "output_type": "display_data",
                    "data": {
                        "text/html": "Total execution time: 00:00:00.003"
                    },
                    "metadata": {}
                }
            ],
            "execution_count": 8
        },
        {
            "cell_type": "code",
            "source": [
                "-- Khách hàng hủy đơn hàng có mã @WhichBill với điều kiện TRANG_THAI = N'Chờ xác nhận'  \r\n",
                "CREATE OR ALTER PROCEDURE Customer_Cancel @WhichBill SMALLINT AS\r\n",
                "            DECLARE @TrangThai NVARCHAR(20) = (\r\n",
                "                SELECT TRANG_THAI from HoaDon\r\n",
                "            )\r\n",
                "        IF @TrangThai = N'Chờ xác nhận'  \r\n",
                "            BEGIN\r\n",
                "                -- Chuyển hóa đơn về trạng thái hủy\r\n",
                "                UPDATE HoaDon\r\n",
                "                    SET TRANG_THAI = N'Đã hủy'\r\n",
                "                WHERE B_ID = @WhichBill\r\n",
                "                -- Trả lại hàng cho quán\r\n",
                "                UPDATE MatHang\r\n",
                "                    SET MatHang.CON_LAI = MatHang.CON_LAI + VIEWALL.SO_LUONG\r\n",
                "                FROM  VIEWALL \r\n",
                "                WHERE VIEWALL.B_ID = @WhichBill AND VIEWALL.H_ID = MatHang.H_ID\r\n",
                "            END\r\n",
                "        ELSE\r\n",
                "            SELECT N'Không thể hoàn tất,đơn hàng đang được giao. Hãy liên lạc với nhân viên để được biết thêm chi tiết.' AS THAT_BAI\r\n",
                "            ---------------------------------------------------------------------------------------------------------------------------------------------------"
            ],
            "metadata": {
                "azdata_cell_guid": "524f3a6c-bf79-4a84-84bb-7149d09d2907"
            },
            "outputs": [
                {
                    "output_type": "display_data",
                    "data": {
                        "text/html": "Commands completed successfully."
                    },
                    "metadata": {}
                },
                {
                    "output_type": "display_data",
                    "data": {
                        "text/html": "Total execution time: 00:00:00.002"
                    },
                    "metadata": {}
                }
            ],
            "execution_count": 9
        },
        {
            "cell_type": "code",
            "source": [
                "-- 4, Cập nhật điểm tích lũy cho khách hàng, số sao cho Shipper:\r\n",
                "    CREATE or ALTER PROCEDURE UpdateKhachHangAndShipper AS\r\n",
                "        -- Khách hàng mua một đơn hàng thành công sẽ +1 điểm tích lũy\r\n",
                "        -- KhachHang\r\n",
                "        UPDATE KhachHang\r\n",
                "            SET KhachHang.DIEM_TICH_LUY = TinhDiem.DIEMTICHLUY\r\n",
                "            from\r\n",
                "                (SELECT C_ID, COUNT(C_ID) as DIEMTICHLUY from HoaDon\r\n",
                "                WHERE TRANG_THAI = N'Đã giao'\r\n",
                "                GROUP BY C_ID) AS TinhDiem\r\n",
                "            WHERE TinhDiem.C_ID = KhachHang.C_ID\r\n",
                "        \r\n",
                "        -- Shippers\r\n",
                "        -- Shipper giao hàng và được đánh giá sẽ được tính số đánh giá trung bình:\r\n",
                "        UPDATE Shippers\r\n",
                "            SET Shippers.DANH_GIA = DanhGia.DANH_GIA\r\n",
                "        FROM \r\n",
                "        (SELECT S_ID, AVG( DANH_GIA_DON_HANG ) as DANH_GIA \r\n",
                "        from HoaDon\r\n",
                "        GROUP BY S_ID ) as DanhGia\r\n",
                "        WHERE Shippers.S_ID = DanhGia.S_ID\r\n",
                "        \r\n",
                "        -- Cập nhật số sao đánh giá, số điểm tích lũy liên tục"
            ],
            "metadata": {
                "azdata_cell_guid": "651d5a7f-6447-4be5-ba45-ef06fa0ddc56"
            },
            "outputs": [
                {
                    "output_type": "display_data",
                    "data": {
                        "text/html": "Commands completed successfully."
                    },
                    "metadata": {}
                },
                {
                    "output_type": "display_data",
                    "data": {
                        "text/html": "Total execution time: 00:00:00.004"
                    },
                    "metadata": {}
                }
            ],
            "execution_count": 10
        },
        {
            "cell_type": "code",
            "source": [
                "\r\n",
                "    -- Nộp tiền phí:\r\n",
                "\r\n",
                "    CREATE OR ALTER PROCEDURE NopPhi @ID_Phi TINYINT,@Who CHAR ,@month TINYINT,@year SMALLINT AS\r\n",
                "    /*\r\n",
                "      * @param: @ID_Phi : ID nộp phí trong bảng nộp phí, Shipper = FS_ID; CuaHang = FP_ID\r\n",
                "                @Who    : Chỉ định đối tượng nộp phí: 'S' or 's'-> Shipper; 'P' or 'p' -> CuaHang \r\n",
                "                @month  : Chỉ định tháng mà đối tượng nộp phí\r\n",
                "                @year   : Chỉ định năm đối tượng đóng: // cần thiết cho năm vì trường hợp sang năm mới thì mới nộp cho tháng 12 năm trước\r\n",
                "    */ \r\n",
                "        DECLARE @check NVARCHAR(10) = ( SELECT TRANG_THAI \r\n",
                "                                    from PhiShippers \r\n",
                "                                    WHERE FS_ID = @ID_Phi and THANG = @month\r\n",
                "                                          and NAM = @year and TIEN_PHI_THANG IS NOT NULL)\r\n",
                "            -- Nếu @check = '' thì có nghĩa là FS_ID không tồn tại trong hệ thống\r\n",
                "        DECLARE @check1 NVARCHAR(10) = ( SELECT TRANG_THAI \r\n",
                "                                        from PhiCuaHang \r\n",
                "                                        WHERE FP_ID = @ID_Phi and THANG = @month\r\n",
                "                                              and NAM = @year and TIEN_PHI_THANG IS NOT NULL)\r\n",
                "            -- Nếu @check1 = '' thì có nghĩa là FP_ID không tồn tại trong hệ thống hoặc tháng không hợp lệ\r\n",
                "        -- THƯỜNG xảy ra 3 trường hợp:\r\n",
                "        --                    1: Không tồn tại @thang, @ID_Phi trong database\r\n",
                "        --                    2: @ID_Phi trong @thang đã nộp tiền phí \r\n",
                "        --                    3: @ID_Phi trong @thang chưa nộp tiền phí \r\n",
                "\r\n",
                "        IF ( LOWER(@who) = 's' ) and @check != ''                                  \r\n",
                "            BEGIN\r\n",
                "                IF @check = N'Chưa nộp'  --- sau này thêm điều kiện check: @month < Month(Getdate()) để đảm bảo hết tháng shipper mới nộp được\r\n",
                "                    BEGIN\r\n",
                "                        UPDATE PhiShippers\r\n",
                "                            SET TRANG_THAI = N'Đã nộp', THOI_GIAN_NOP = GETDATE()\r\n",
                "                        WHERE FS_ID = @ID_Phi and THANG = @month and NAM = @year\r\n",
                "                        SELECT N'Đã nộp thành công.' AS SUCCESS\r\n",
                "                    END\r\n",
                "                ELSE\r\n",
                "                    SELECT N'Bạn đã nộp rồi!' AS SHIPPER_DA_NOP\r\n",
                "            END\r\n",
                "        IF (LOWER(@who) = 'p') and @check1 != ''   \r\n",
                "            BEGIN\r\n",
                "                IF @check1 = N'Chưa nộp'\r\n",
                "                    BEGIN\r\n",
                "                        UPDATE PhiCuaHang\r\n",
                "                            SET TRANG_THAI = N'Đã nộp',THOI_GIAN_NOP = GETDATE()\r\n",
                "                        WHERE FP_ID = @ID_Phi and THANG = @month and NAM = @year \r\n",
                "                        SELECT N'Đã nộp thành công.' AS SUCCESS\r\n",
                "                    END\r\n",
                "                ELSE\r\n",
                "                    SELECT N'Bạn đã nộp rồi!' AS CUA_HANG_DA_NOP\r\n",
                "            END\r\n",
                "        ELSE\r\n",
                "            SELECT N'Có lỗi xảy ra, xin vui lòng thử lại.' AS ERORR\r\n",
                ""
            ],
            "metadata": {
                "azdata_cell_guid": "a1d4f269-3ff0-46f2-aedf-3f3a033f745d"
            },
            "outputs": [
                {
                    "output_type": "display_data",
                    "data": {
                        "text/html": "Commands completed successfully."
                    },
                    "metadata": {}
                },
                {
                    "output_type": "display_data",
                    "data": {
                        "text/html": "Total execution time: 00:00:00.004"
                    },
                    "metadata": {}
                }
            ],
            "execution_count": 11
        },
        {
            "cell_type": "code",
            "source": [
                "-- Tính số tiền công ty đã nhận được từ việc nộp phí của Shipper và CuaHang\r\n",
                " CREATE or ALTER PROCEDURE Monthly_Revenue @thang int AS\r\n",
                "\r\n",
                "        SELECT SUM(TONG.TONG) AS TONG_DOANH_THU FROM\r\n",
                "            (SELECT SUM(TIEN_PHI_THANG) AS TONG FROM PhiShippers\r\n",
                "                WHERE THANG = @thang AND TRANG_THAI = N'Đã nộp' and NAM = YEAR(GETDATE())\r\n",
                "            UNION\r\n",
                "            SELECT SUM(TIEN_PHI_THANG) AS TONG FROM PhiCuaHang\r\n",
                "                WHERE THANG = @thang AND TRANG_THAI = N'Đã nộp' and NAM = YEAR(GETDATE())\r\n",
                "            ) AS TONG\r\n",
                "\r\n",
                "\r\n",
                "\r\n",
                "-----------------------------------------------------------------------------------------------------------------------------------------------------\r\n",
                ""
            ],
            "metadata": {
                "azdata_cell_guid": "32096b93-60c6-4ad0-bff9-d45bc20829b5"
            },
            "outputs": [
                {
                    "output_type": "display_data",
                    "data": {
                        "text/html": "Commands completed successfully."
                    },
                    "metadata": {}
                },
                {
                    "output_type": "display_data",
                    "data": {
                        "text/html": "Total execution time: 00:00:00.002"
                    },
                    "metadata": {}
                }
            ],
            "execution_count": 12
        },
        {
            "cell_type": "code",
            "source": [
                "--Đưa ra danh sách các khách hàng, shipper, chưa nộp phí dịch vụ trong tháng\r\n",
                "    --- Gồm các shipper + Cửa hàng chưa nộp phí trong những tháng < @thang\r\n",
                "    CREATE OR ALTER FUNCTION TON_NO(@thang INT,@year SMALLINT)\r\n",
                "    RETURNS TABLE \r\n",
                "    AS  \r\n",
                "        RETURN\r\n",
                "            SELECT PHI_ID,bang1.ID,TEN,THANG\r\n",
                "            from\r\n",
                "                (\r\n",
                "                Select FS_ID AS PHI_ID,S_ID AS ID,THANG,NAM,TRANG_THAI from PhiShippers\r\n",
                "                UNION\r\n",
                "                SELECt FP_ID AS PHI_ID, P_ID AS ID,THANG,NAM,TRANG_THAI FROM PhiCuaHang\r\n",
                "                )\r\n",
                "                AS bang1\r\n",
                "                INNER JOIN\r\n",
                "                (\r\n",
                "                SELECT S_ID AS ID, HO_VA_TEN  AS TEN FROM Shippers\r\n",
                "                UNION\r\n",
                "                SELECT P_ID,TEN_CUA_HANG from CuaHang\r\n",
                "                ) AS bang2\r\n",
                "                ON bang1.ID = bang2.ID\r\n",
                "            WHERE TRANG_THAI = N'Chưa nộp' AND THANG < @thang and NAM <= @year\r\n",
                "\r\n",
                ""
            ],
            "metadata": {
                "azdata_cell_guid": "987cb1c6-debc-4172-bd55-d51df71398f4"
            },
            "outputs": [
                {
                    "output_type": "display_data",
                    "data": {
                        "text/html": "Commands completed successfully."
                    },
                    "metadata": {}
                },
                {
                    "output_type": "display_data",
                    "data": {
                        "text/html": "Total execution time: 00:00:00.005"
                    },
                    "metadata": {}
                }
            ],
            "execution_count": 13
        },
        {
            "cell_type": "code",
            "source": [
                " --Đưa ra danh sách khách hàng có điểm tích lũy đạt các mốc: 50,100,200,500\r\n",
                "    CREATE OR ALTER  FUNCTION KH_DiemTichLuy(@diem INT)\r\n",
                "         RETURNS TABLE AS RETURN(\r\n",
                "            SELECT * FROM dbo.KhachHang\r\n",
                "            WHERE DIEM_TICH_LUY = @diem  -- Số điểm mốc cần truy cứu\r\n",
                "         )\r\n",
                ""
            ],
            "metadata": {
                "azdata_cell_guid": "99fd71b1-6998-4169-8927-1c95be2ca105"
            },
            "outputs": [
                {
                    "output_type": "display_data",
                    "data": {
                        "text/html": "Commands completed successfully."
                    },
                    "metadata": {}
                },
                {
                    "output_type": "display_data",
                    "data": {
                        "text/html": "Total execution time: 00:00:00.006"
                    },
                    "metadata": {}
                }
            ],
            "execution_count": 14
        },
        {
            "cell_type": "code",
            "source": [
                "-- top 3 mặt hàng mua nhiều nhất trong tháng\r\n",
                "CREATE PROCEDURE Best_Selling @thang INT AS\r\n",
                "        SELECT TOP 3 H_ID,TEN_MAT_HANG, SUM(SO_LUONG) AS SO_LUONG_MUA\r\n",
                "        FROM VIEWALL\r\n",
                "        WHERE THANG = @thang AND NAM = YEAR(GETDATE())\r\n",
                "        GROUP BY H_ID,TEN_MAT_HANG\r\n",
                "        ORDER BY SO_LUONG_MUA DESC"
            ],
            "metadata": {
                "azdata_cell_guid": "c2b60f22-2940-456b-99ea-415dfa14dfe5"
            },
            "outputs": [
                {
                    "output_type": "display_data",
                    "data": {
                        "text/html": "Commands completed successfully."
                    },
                    "metadata": {}
                },
                {
                    "output_type": "display_data",
                    "data": {
                        "text/html": "Total execution time: 00:00:00.007"
                    },
                    "metadata": {}
                }
            ],
            "execution_count": 15
        },
        {
            "cell_type": "code",
            "source": [
                "-- Kiểm tra khuyến mại đang có \r\n",
                "CREATE OR ALTER PROCEDURE Check_Discount AS\r\n",
                "                SELECT * from MatHang\r\n",
                "                WHERE   KHUYEN_MAI > 0\r\n",
                ""
            ],
            "metadata": {
                "azdata_cell_guid": "a4a11182-d809-4c21-9b0d-e1e8e6bb734b"
            },
            "outputs": [
                {
                    "output_type": "display_data",
                    "data": {
                        "text/html": "Commands completed successfully."
                    },
                    "metadata": {}
                },
                {
                    "output_type": "display_data",
                    "data": {
                        "text/html": "Total execution time: 00:00:00.003"
                    },
                    "metadata": {}
                }
            ],
            "execution_count": 16
        },
        {
            "cell_type": "code",
            "source": [
                "    -- 5 Tìm khách hàng có ngày sinh là ngày hôm nay:\r\n",
                "    Create or ALTER PROCEDURE Sinh_Nhat AS\r\n",
                "        SELECT * from KhachHang\r\n",
                "        WHERE DAY(NGAY_SINH) = DAY(Getdate()) and MONTH(NGAY_SINH) = MONTH(GETDATE())"
            ],
            "metadata": {
                "azdata_cell_guid": "dce366ba-44c1-41df-96b4-7e8957eba08a"
            },
            "outputs": [
                {
                    "output_type": "display_data",
                    "data": {
                        "text/html": "Commands completed successfully."
                    },
                    "metadata": {}
                },
                {
                    "output_type": "display_data",
                    "data": {
                        "text/html": "Total execution time: 00:00:00.003"
                    },
                    "metadata": {}
                }
            ],
            "execution_count": 17
        },
        {
            "cell_type": "code",
            "source": [
                "CREATE or ALTER VIEW VIEWALL AS \r\n",
                "                SELECT \r\n",
                "                    h.B_ID,\r\n",
                "                    m.H_ID,\r\n",
                "                    mh.TEN_MAT_HANG,\r\n",
                "                    h.C_ID,\r\n",
                "                    m.SO_LUONG,\r\n",
                "                    mh.CON_LAI,\r\n",
                "                    mh.GIA,\r\n",
                "                    mh.KHUYEN_MAI,\r\n",
                "                    h.PHI_SHIP_VND,\r\n",
                "                    h.TONG_TIEN,\r\n",
                "                    h.TRANG_THAI,\r\n",
                "                    h.DANH_GIA_DON_HANG,\r\n",
                "                    Month(h.THOI_GIAN_NHAN_HANG) AS THANG,\r\n",
                "                    YEAR(h.THOI_GIAN_NHAN_HANG) AS NAM\r\n",
                "                from ( \r\n",
                "                        HoaDon              AS h \r\n",
                "                        INNER JOIN \r\n",
                "                            MatHang_HD      AS m \r\n",
                "                        on m.B_ID = h.B_ID\r\n",
                "                            INNER JOIN\r\n",
                "                                MatHang     AS mh \r\n",
                "                            on mh.H_ID = m.H_ID\r\n",
                "                )\r\n",
                ""
            ],
            "metadata": {
                "azdata_cell_guid": "14f38c3c-4892-4c7e-b401-6ed6b5b2f02f"
            },
            "outputs": [
                {
                    "output_type": "display_data",
                    "data": {
                        "text/html": "Commands completed successfully."
                    },
                    "metadata": {}
                },
                {
                    "output_type": "display_data",
                    "data": {
                        "text/html": "Total execution time: 00:00:00.095"
                    },
                    "metadata": {}
                }
            ],
            "execution_count": 1
        }
    ]
}